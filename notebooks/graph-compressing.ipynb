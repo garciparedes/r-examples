{
  "cells": [
    {
      "cell_type": "code",
      "source": [
        "rm(list = ls())"
      ],
      "outputs": [],
      "execution_count": 44,
      "metadata": {
        "collapsed": false,
        "outputHidden": false,
        "inputHidden": false
      }
    },
    {
      "cell_type": "code",
      "source": [
        "library(igraph)"
      ],
      "outputs": [
        {
          "output_type": "stream",
          "name": "stderr",
          "text": [
            "\n",
            "Attaching package: ‘igraph’\n",
            "\n",
            "The following objects are masked from ‘package:stats’:\n",
            "\n",
            "    decompose, spectrum\n",
            "\n",
            "The following object is masked from ‘package:base’:\n",
            "\n",
            "    union\n",
            "\n"
          ]
        }
      ],
      "execution_count": 35,
      "metadata": {
        "collapsed": false,
        "outputHidden": false,
        "inputHidden": false
      }
    },
    {
      "cell_type": "code",
      "source": [
        "n <- 5000\n",
        "A <- matrix(as.numeric(runif(n ^ 2) < 0.01), nrow = n)\n",
        "diag(A) <- 0\n",
        "mean(rowSums(A))"
      ],
      "outputs": [
        {
          "output_type": "display_data",
          "data": {
            "text/html": [
              "49.8874"
            ],
            "text/markdown": [
              "49.8874"
            ],
            "text/latex": [
              "49.8874"
            ],
            "text/plain": [
              "[1] 49.8874"
            ]
          },
          "metadata": {}
        }
      ],
      "execution_count": 25,
      "metadata": {
        "collapsed": false,
        "outputHidden": false,
        "inputHidden": false
      }
    },
    {
      "cell_type": "code",
      "source": [
        "A.svd <- svd(A)"
      ],
      "outputs": [],
      "execution_count": 26,
      "metadata": {
        "collapsed": false,
        "outputHidden": false,
        "inputHidden": false
      }
    },
    {
      "cell_type": "code",
      "source": [
        "d <- 1500\n",
        "A.reconstructed <- round(A.svd$u[,1:d] %*% diag(A.svd$d[1:d]) %*% t(A.svd$v[,1:d]))"
      ],
      "outputs": [],
      "execution_count": 32,
      "metadata": {
        "collapsed": false,
        "outputHidden": false,
        "inputHidden": false
      }
    },
    {
      "cell_type": "code",
      "source": [
        "2 * (n * d) + d\n",
        "n ^ 2 \n",
        "\n",
        "(2 * (n * d) + d) / n ^ 2\n"
      ],
      "outputs": [
        {
          "output_type": "display_data",
          "data": {
            "text/html": [
              "15001500"
            ],
            "text/markdown": [
              "15001500"
            ],
            "text/latex": [
              "15001500"
            ],
            "text/plain": [
              "[1] 15001500"
            ]
          },
          "metadata": {}
        },
        {
          "output_type": "display_data",
          "data": {
            "text/html": [
              "2.5e+07"
            ],
            "text/markdown": [
              "2.5e+07"
            ],
            "text/latex": [
              "2.5e+07"
            ],
            "text/plain": [
              "[1] 2.5e+07"
            ]
          },
          "metadata": {}
        },
        {
          "output_type": "display_data",
          "data": {
            "text/html": [
              "0.60006"
            ],
            "text/markdown": [
              "0.60006"
            ],
            "text/latex": [
              "0.60006"
            ],
            "text/plain": [
              "[1] 0.60006"
            ]
          },
          "metadata": {}
        }
      ],
      "execution_count": 34,
      "metadata": {
        "collapsed": false,
        "outputHidden": false,
        "inputHidden": false
      }
    },
    {
      "cell_type": "code",
      "source": [
        "sum(A)\n",
        "sum(A.reconstructed)\n",
        "\nsum(A.reconstructed) / sum(A)"
      ],
      "outputs": [
        {
          "output_type": "display_data",
          "data": {
            "text/html": [
              "249437"
            ],
            "text/markdown": [
              "249437"
            ],
            "text/latex": [
              "249437"
            ],
            "text/plain": [
              "[1] 249437"
            ]
          },
          "metadata": {}
        },
        {
          "output_type": "display_data",
          "data": {
            "text/html": [
              "247431"
            ],
            "text/markdown": [
              "247431"
            ],
            "text/latex": [
              "247431"
            ],
            "text/plain": [
              "[1] 247431"
            ]
          },
          "metadata": {}
        },
        {
          "output_type": "display_data",
          "data": {
            "text/html": [
              "0.991957889166403"
            ],
            "text/markdown": [
              "0.991957889166403"
            ],
            "text/latex": [
              "0.991957889166403"
            ],
            "text/plain": [
              "[1] 0.9919579"
            ]
          },
          "metadata": {}
        }
      ],
      "execution_count": 33,
      "metadata": {
        "collapsed": false,
        "outputHidden": false,
        "inputHidden": false
      }
    },
    {
      "cell_type": "code",
      "source": [
        "G.reconstructed <- graph_from_adjacency_matrix(A.reconstructed)\n",
        "G <- graph_from_adjacency_matrix(A)"
      ],
      "outputs": [],
      "execution_count": 43,
      "metadata": {
        "collapsed": false,
        "outputHidden": false,
        "inputHidden": false
      }
    },
    {
      "cell_type": "code",
      "source": [
        "head(sort.int(as.vector(page.rank.old(G)), index.return = TRUE)$ix)\n",
        "head(sort.int(as.vector(page.rank.old(G.reconstructed)), index.return = TRUE)$ix)"
      ],
      "outputs": [
        {
          "output_type": "stream",
          "name": "stderr",
          "text": [
            "Warning message in page.rank.old(G):\n",
            "“At structural_properties.c:1379 :igraph_pagerank_old is deprecated from igraph 0.7, use igraph_pagerank instead”"
          ]
        },
        {
          "output_type": "display_data",
          "data": {
            "text/html": [
              "<ol class=list-inline>\n",
              "\t<li>4636</li>\n",
              "\t<li>2456</li>\n",
              "\t<li>1264</li>\n",
              "\t<li>2119</li>\n",
              "\t<li>4212</li>\n",
              "\t<li>3185</li>\n",
              "</ol>\n"
            ],
            "text/markdown": [
              "1. 4636\n",
              "2. 2456\n",
              "3. 1264\n",
              "4. 2119\n",
              "5. 4212\n",
              "6. 3185\n",
              "\n\n"
            ],
            "text/latex": [
              "\\begin{enumerate*}\n",
              "\\item 4636\n",
              "\\item 2456\n",
              "\\item 1264\n",
              "\\item 2119\n",
              "\\item 4212\n",
              "\\item 3185\n",
              "\\end{enumerate*}\n"
            ],
            "text/plain": [
              "[1] 4636 2456 1264 2119 4212 3185"
            ]
          },
          "metadata": {}
        },
        {
          "output_type": "stream",
          "name": "stderr",
          "text": [
            "Warning message in page.rank.old(G.reconstructed):\n",
            "“At structural_properties.c:1379 :igraph_pagerank_old is deprecated from igraph 0.7, use igraph_pagerank instead”"
          ]
        },
        {
          "output_type": "display_data",
          "data": {
            "text/html": [
              "<ol class=list-inline>\n",
              "\t<li>4636</li>\n",
              "\t<li>2456</li>\n",
              "\t<li>3185</li>\n",
              "\t<li>4212</li>\n",
              "\t<li>1264</li>\n",
              "\t<li>4208</li>\n",
              "</ol>\n"
            ],
            "text/markdown": [
              "1. 4636\n",
              "2. 2456\n",
              "3. 3185\n",
              "4. 4212\n",
              "5. 1264\n",
              "6. 4208\n",
              "\n\n"
            ],
            "text/latex": [
              "\\begin{enumerate*}\n",
              "\\item 4636\n",
              "\\item 2456\n",
              "\\item 3185\n",
              "\\item 4212\n",
              "\\item 1264\n",
              "\\item 4208\n",
              "\\end{enumerate*}\n"
            ],
            "text/plain": [
              "[1] 4636 2456 3185 4212 1264 4208"
            ]
          },
          "metadata": {}
        }
      ],
      "execution_count": 56,
      "metadata": {
        "collapsed": false,
        "outputHidden": false,
        "inputHidden": false
      }
    }
  ],
  "metadata": {
    "kernelspec": {
      "name": "ir",
      "language": "R",
      "display_name": "R"
    },
    "kernel_info": {
      "name": "ir"
    },
    "language_info": {
      "name": "R",
      "codemirror_mode": "r",
      "pygments_lexer": "r",
      "mimetype": "text/x-r-source",
      "file_extension": ".r",
      "version": "3.4.3"
    },
    "nteract": {
      "version": "0.5.4"
    }
  },
  "nbformat": 4,
  "nbformat_minor": 4
}