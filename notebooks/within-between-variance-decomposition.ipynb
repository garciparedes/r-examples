{
  "cells": [
    {
      "cell_type": "markdown",
      "source": [
        "# Within - Between Variance Decomposition\n",
        "\n",
        "### Author:\n",
        "- Sergio García Prado ([garciparedes.me](https://garciparedes.me))"
      ],
      "metadata": {}
    },
    {
      "cell_type": "code",
      "source": [
        "library(dplyr)"
      ],
      "outputs": [
        {
          "output_type": "stream",
          "name": "stderr",
          "text": [
            "\n",
            "Attaching package: ‘dplyr’\n",
            "\n",
            "The following objects are masked from ‘package:stats’:\n",
            "\n",
            "    filter, lag\n",
            "\n",
            "The following objects are masked from ‘package:base’:\n",
            "\n",
            "    intersect, setdiff, setequal, union\n",
            "\n"
          ]
        }
      ],
      "execution_count": 1,
      "metadata": {
        "collapsed": false,
        "outputHidden": false,
        "inputHidden": false
      }
    },
    {
      "cell_type": "code",
      "source": [
        "data(iris)"
      ],
      "outputs": [],
      "execution_count": 2,
      "metadata": {
        "collapsed": false,
        "outputHidden": false,
        "inputHidden": false
      }
    },
    {
      "cell_type": "code",
      "source": [
        "head(iris)"
      ],
      "outputs": [
        {
          "output_type": "display_data",
          "data": {
            "text/html": [
              "<table>\n",
              "<thead><tr><th scope=col>Sepal.Length</th><th scope=col>Sepal.Width</th><th scope=col>Petal.Length</th><th scope=col>Petal.Width</th><th scope=col>Species</th></tr></thead>\n",
              "<tbody>\n",
              "\t<tr><td>5.1   </td><td>3.5   </td><td>1.4   </td><td>0.2   </td><td>setosa</td></tr>\n",
              "\t<tr><td>4.9   </td><td>3.0   </td><td>1.4   </td><td>0.2   </td><td>setosa</td></tr>\n",
              "\t<tr><td>4.7   </td><td>3.2   </td><td>1.3   </td><td>0.2   </td><td>setosa</td></tr>\n",
              "\t<tr><td>4.6   </td><td>3.1   </td><td>1.5   </td><td>0.2   </td><td>setosa</td></tr>\n",
              "\t<tr><td>5.0   </td><td>3.6   </td><td>1.4   </td><td>0.2   </td><td>setosa</td></tr>\n",
              "\t<tr><td>5.4   </td><td>3.9   </td><td>1.7   </td><td>0.4   </td><td>setosa</td></tr>\n",
              "</tbody>\n",
              "</table>\n"
            ],
            "text/markdown": [
              "\n",
              "Sepal.Length | Sepal.Width | Petal.Length | Petal.Width | Species | \n",
              "|---|---|---|---|---|---|\n",
              "| 5.1    | 3.5    | 1.4    | 0.2    | setosa | \n",
              "| 4.9    | 3.0    | 1.4    | 0.2    | setosa | \n",
              "| 4.7    | 3.2    | 1.3    | 0.2    | setosa | \n",
              "| 4.6    | 3.1    | 1.5    | 0.2    | setosa | \n",
              "| 5.0    | 3.6    | 1.4    | 0.2    | setosa | \n",
              "| 5.4    | 3.9    | 1.7    | 0.4    | setosa | \n",
              "\n\n"
            ],
            "text/latex": [
              "\\begin{tabular}{r|lllll}\n",
              " Sepal.Length & Sepal.Width & Petal.Length & Petal.Width & Species\\\\\n",
              "\\hline\n",
              "\t 5.1    & 3.5    & 1.4    & 0.2    & setosa\\\\\n",
              "\t 4.9    & 3.0    & 1.4    & 0.2    & setosa\\\\\n",
              "\t 4.7    & 3.2    & 1.3    & 0.2    & setosa\\\\\n",
              "\t 4.6    & 3.1    & 1.5    & 0.2    & setosa\\\\\n",
              "\t 5.0    & 3.6    & 1.4    & 0.2    & setosa\\\\\n",
              "\t 5.4    & 3.9    & 1.7    & 0.4    & setosa\\\\\n",
              "\\end{tabular}\n"
            ],
            "text/plain": [
              "  Sepal.Length Sepal.Width Petal.Length Petal.Width Species\n",
              "1 5.1          3.5         1.4          0.2         setosa \n",
              "2 4.9          3.0         1.4          0.2         setosa \n",
              "3 4.7          3.2         1.3          0.2         setosa \n",
              "4 4.6          3.1         1.5          0.2         setosa \n",
              "5 5.0          3.6         1.4          0.2         setosa \n",
              "6 5.4          3.9         1.7          0.4         setosa "
            ]
          },
          "metadata": {}
        }
      ],
      "execution_count": 3,
      "metadata": {
        "collapsed": false,
        "outputHidden": false,
        "inputHidden": false
      }
    },
    {
      "cell_type": "code",
      "source": [
        "(group.means <- as.matrix(iris %>%\n",
        "    group_by(Species) %>%\n",
        "    summarise(Sepal.Length.mean = mean(Sepal.Length,na.rm = TRUE),\n",
        "             Sepal.Width.mean = mean(Sepal.Width,na.rm = TRUE),\n",
        "             Petal.Length.mean = mean(Petal.Length,na.rm = TRUE),\n",
        "             Petal.Width.mean = mean(Petal.Width,na.rm = TRUE)) %>%\n",
        "    select(-Species)))"
      ],
      "outputs": [
        {
          "output_type": "display_data",
          "data": {
            "text/html": [
              "<table>\n",
              "<thead><tr><th scope=col>Sepal.Length.mean</th><th scope=col>Sepal.Width.mean</th><th scope=col>Petal.Length.mean</th><th scope=col>Petal.Width.mean</th></tr></thead>\n",
              "<tbody>\n",
              "\t<tr><td>5.006</td><td>3.428</td><td>1.462</td><td>0.246</td></tr>\n",
              "\t<tr><td>5.936</td><td>2.770</td><td>4.260</td><td>1.326</td></tr>\n",
              "\t<tr><td>6.588</td><td>2.974</td><td>5.552</td><td>2.026</td></tr>\n",
              "</tbody>\n",
              "</table>\n"
            ],
            "text/markdown": [
              "\n",
              "Sepal.Length.mean | Sepal.Width.mean | Petal.Length.mean | Petal.Width.mean | \n",
              "|---|---|---|\n",
              "| 5.006 | 3.428 | 1.462 | 0.246 | \n",
              "| 5.936 | 2.770 | 4.260 | 1.326 | \n",
              "| 6.588 | 2.974 | 5.552 | 2.026 | \n",
              "\n\n"
            ],
            "text/latex": [
              "\\begin{tabular}{llll}\n",
              " Sepal.Length.mean & Sepal.Width.mean & Petal.Length.mean & Petal.Width.mean\\\\\n",
              "\\hline\n",
              "\t 5.006 & 3.428 & 1.462 & 0.246\\\\\n",
              "\t 5.936 & 2.770 & 4.260 & 1.326\\\\\n",
              "\t 6.588 & 2.974 & 5.552 & 2.026\\\\\n",
              "\\end{tabular}\n"
            ],
            "text/plain": [
              "     Sepal.Length.mean Sepal.Width.mean Petal.Length.mean Petal.Width.mean\n",
              "[1,] 5.006             3.428            1.462             0.246           \n",
              "[2,] 5.936             2.770            4.260             1.326           \n",
              "[3,] 6.588             2.974            5.552             2.026           "
            ]
          },
          "metadata": {}
        }
      ],
      "execution_count": 4,
      "metadata": {
        "collapsed": false,
        "outputHidden": false,
        "inputHidden": false
      }
    },
    {
      "cell_type": "code",
      "source": [
        "(total.mean <- as.vector(iris %>%\n",
        "    summarise(Sepal.Length.mean = mean(Sepal.Length,na.rm = TRUE),\n",
        "             Sepal.Width.mean = mean(Sepal.Width,na.rm = TRUE),\n",
        "             Petal.Length.mean = mean(Petal.Length,na.rm = TRUE),\n",
        "             Petal.Width.mean = mean(Petal.Width,na.rm = TRUE))))"
      ],
      "outputs": [
        {
          "output_type": "display_data",
          "data": {
            "text/html": [
              "<table>\n",
              "<thead><tr><th scope=col>Sepal.Length.mean</th><th scope=col>Sepal.Width.mean</th><th scope=col>Petal.Length.mean</th><th scope=col>Petal.Width.mean</th></tr></thead>\n",
              "<tbody>\n",
              "\t<tr><td>5.843333</td><td>3.057333</td><td>3.758   </td><td>1.199333</td></tr>\n",
              "</tbody>\n",
              "</table>\n"
            ],
            "text/markdown": [
              "\n",
              "Sepal.Length.mean | Sepal.Width.mean | Petal.Length.mean | Petal.Width.mean | \n",
              "|---|\n",
              "| 5.843333 | 3.057333 | 3.758    | 1.199333 | \n",
              "\n\n"
            ],
            "text/latex": [
              "\\begin{tabular}{r|llll}\n",
              " Sepal.Length.mean & Sepal.Width.mean & Petal.Length.mean & Petal.Width.mean\\\\\n",
              "\\hline\n",
              "\t 5.843333 & 3.057333 & 3.758    & 1.199333\\\\\n",
              "\\end{tabular}\n"
            ],
            "text/plain": [
              "  Sepal.Length.mean Sepal.Width.mean Petal.Length.mean Petal.Width.mean\n",
              "1 5.843333          3.057333         3.758             1.199333        "
            ]
          },
          "metadata": {}
        }
      ],
      "execution_count": 5,
      "metadata": {
        "collapsed": false,
        "outputHidden": false,
        "inputHidden": false
      }
    },
    {
      "cell_type": "code",
      "source": [
        "(n.groups <- (iris %>%\n",
        "    group_by(Species) %>%\n",
        "    summarise(n = n()) %>%\n",
        "    select(-Species)) %>%\n",
        "    pull(n))"
      ],
      "outputs": [
        {
          "output_type": "display_data",
          "data": {
            "text/html": [
              "<ol class=list-inline>\n",
              "\t<li>50</li>\n",
              "\t<li>50</li>\n",
              "\t<li>50</li>\n",
              "</ol>\n"
            ],
            "text/markdown": [
              "1. 50\n",
              "2. 50\n",
              "3. 50\n",
              "\n\n"
            ],
            "text/latex": [
              "\\begin{enumerate*}\n",
              "\\item 50\n",
              "\\item 50\n",
              "\\item 50\n",
              "\\end{enumerate*}\n"
            ],
            "text/plain": [
              "[1] 50 50 50"
            ]
          },
          "metadata": {}
        }
      ],
      "execution_count": 6,
      "metadata": {
        "collapsed": false,
        "outputHidden": false,
        "inputHidden": false
      }
    },
    {
      "cell_type": "code",
      "source": [
        "t(t(select(iris, -Species)[1:50,])  - group.means[1,])"
      ],
      "outputs": [
        {
          "output_type": "display_data",
          "data": {
            "text/html": [
              "<table>\n",
              "<thead><tr><th></th><th scope=col>Sepal.Length</th><th scope=col>Sepal.Width</th><th scope=col>Petal.Length</th><th scope=col>Petal.Width</th></tr></thead>\n",
              "<tbody>\n",
              "\t<tr><th scope=row>1</th><td> 0.094</td><td> 0.072</td><td>-0.062</td><td>-0.046</td></tr>\n",
              "\t<tr><th scope=row>2</th><td>-0.106</td><td>-0.428</td><td>-0.062</td><td>-0.046</td></tr>\n",
              "\t<tr><th scope=row>3</th><td>-0.306</td><td>-0.228</td><td>-0.162</td><td>-0.046</td></tr>\n",
              "\t<tr><th scope=row>4</th><td>-0.406</td><td>-0.328</td><td> 0.038</td><td>-0.046</td></tr>\n",
              "\t<tr><th scope=row>5</th><td>-0.006</td><td> 0.172</td><td>-0.062</td><td>-0.046</td></tr>\n",
              "\t<tr><th scope=row>6</th><td> 0.394</td><td> 0.472</td><td> 0.238</td><td> 0.154</td></tr>\n",
              "\t<tr><th scope=row>7</th><td>-0.406</td><td>-0.028</td><td>-0.062</td><td> 0.054</td></tr>\n",
              "\t<tr><th scope=row>8</th><td>-0.006</td><td>-0.028</td><td> 0.038</td><td>-0.046</td></tr>\n",
              "\t<tr><th scope=row>9</th><td>-0.606</td><td>-0.528</td><td>-0.062</td><td>-0.046</td></tr>\n",
              "\t<tr><th scope=row>10</th><td>-0.106</td><td>-0.328</td><td> 0.038</td><td>-0.146</td></tr>\n",
              "\t<tr><th scope=row>11</th><td> 0.394</td><td> 0.272</td><td> 0.038</td><td>-0.046</td></tr>\n",
              "\t<tr><th scope=row>12</th><td>-0.206</td><td>-0.028</td><td> 0.138</td><td>-0.046</td></tr>\n",
              "\t<tr><th scope=row>13</th><td>-0.206</td><td>-0.428</td><td>-0.062</td><td>-0.146</td></tr>\n",
              "\t<tr><th scope=row>14</th><td>-0.706</td><td>-0.428</td><td>-0.362</td><td>-0.146</td></tr>\n",
              "\t<tr><th scope=row>15</th><td> 0.794</td><td> 0.572</td><td>-0.262</td><td>-0.046</td></tr>\n",
              "\t<tr><th scope=row>16</th><td> 0.694</td><td> 0.972</td><td> 0.038</td><td> 0.154</td></tr>\n",
              "\t<tr><th scope=row>17</th><td> 0.394</td><td> 0.472</td><td>-0.162</td><td> 0.154</td></tr>\n",
              "\t<tr><th scope=row>18</th><td> 0.094</td><td> 0.072</td><td>-0.062</td><td> 0.054</td></tr>\n",
              "\t<tr><th scope=row>19</th><td> 0.694</td><td> 0.372</td><td> 0.238</td><td> 0.054</td></tr>\n",
              "\t<tr><th scope=row>20</th><td> 0.094</td><td> 0.372</td><td> 0.038</td><td> 0.054</td></tr>\n",
              "\t<tr><th scope=row>21</th><td> 0.394</td><td>-0.028</td><td> 0.238</td><td>-0.046</td></tr>\n",
              "\t<tr><th scope=row>22</th><td> 0.094</td><td> 0.272</td><td> 0.038</td><td> 0.154</td></tr>\n",
              "\t<tr><th scope=row>23</th><td>-0.406</td><td> 0.172</td><td>-0.462</td><td>-0.046</td></tr>\n",
              "\t<tr><th scope=row>24</th><td> 0.094</td><td>-0.128</td><td> 0.238</td><td> 0.254</td></tr>\n",
              "\t<tr><th scope=row>25</th><td>-0.206</td><td>-0.028</td><td> 0.438</td><td>-0.046</td></tr>\n",
              "\t<tr><th scope=row>26</th><td>-0.006</td><td>-0.428</td><td> 0.138</td><td>-0.046</td></tr>\n",
              "\t<tr><th scope=row>27</th><td>-0.006</td><td>-0.028</td><td> 0.138</td><td> 0.154</td></tr>\n",
              "\t<tr><th scope=row>28</th><td> 0.194</td><td> 0.072</td><td> 0.038</td><td>-0.046</td></tr>\n",
              "\t<tr><th scope=row>29</th><td> 0.194</td><td>-0.028</td><td>-0.062</td><td>-0.046</td></tr>\n",
              "\t<tr><th scope=row>30</th><td>-0.306</td><td>-0.228</td><td> 0.138</td><td>-0.046</td></tr>\n",
              "\t<tr><th scope=row>31</th><td>-0.206</td><td>-0.328</td><td> 0.138</td><td>-0.046</td></tr>\n",
              "\t<tr><th scope=row>32</th><td> 0.394</td><td>-0.028</td><td> 0.038</td><td> 0.154</td></tr>\n",
              "\t<tr><th scope=row>33</th><td> 0.194</td><td> 0.672</td><td> 0.038</td><td>-0.146</td></tr>\n",
              "\t<tr><th scope=row>34</th><td> 0.494</td><td> 0.772</td><td>-0.062</td><td>-0.046</td></tr>\n",
              "\t<tr><th scope=row>35</th><td>-0.106</td><td>-0.328</td><td> 0.038</td><td>-0.046</td></tr>\n",
              "\t<tr><th scope=row>36</th><td>-0.006</td><td>-0.228</td><td>-0.262</td><td>-0.046</td></tr>\n",
              "\t<tr><th scope=row>37</th><td> 0.494</td><td> 0.072</td><td>-0.162</td><td>-0.046</td></tr>\n",
              "\t<tr><th scope=row>38</th><td>-0.106</td><td> 0.172</td><td>-0.062</td><td>-0.146</td></tr>\n",
              "\t<tr><th scope=row>39</th><td>-0.606</td><td>-0.428</td><td>-0.162</td><td>-0.046</td></tr>\n",
              "\t<tr><th scope=row>40</th><td> 0.094</td><td>-0.028</td><td> 0.038</td><td>-0.046</td></tr>\n",
              "\t<tr><th scope=row>41</th><td>-0.006</td><td> 0.072</td><td>-0.162</td><td> 0.054</td></tr>\n",
              "\t<tr><th scope=row>42</th><td>-0.506</td><td>-1.128</td><td>-0.162</td><td> 0.054</td></tr>\n",
              "\t<tr><th scope=row>43</th><td>-0.606</td><td>-0.228</td><td>-0.162</td><td>-0.046</td></tr>\n",
              "\t<tr><th scope=row>44</th><td>-0.006</td><td> 0.072</td><td> 0.138</td><td> 0.354</td></tr>\n",
              "\t<tr><th scope=row>45</th><td> 0.094</td><td> 0.372</td><td> 0.438</td><td> 0.154</td></tr>\n",
              "\t<tr><th scope=row>46</th><td>-0.206</td><td>-0.428</td><td>-0.062</td><td> 0.054</td></tr>\n",
              "\t<tr><th scope=row>47</th><td> 0.094</td><td> 0.372</td><td> 0.138</td><td>-0.046</td></tr>\n",
              "\t<tr><th scope=row>48</th><td>-0.406</td><td>-0.228</td><td>-0.062</td><td>-0.046</td></tr>\n",
              "\t<tr><th scope=row>49</th><td> 0.294</td><td> 0.272</td><td> 0.038</td><td>-0.046</td></tr>\n",
              "\t<tr><th scope=row>50</th><td>-0.006</td><td>-0.128</td><td>-0.062</td><td>-0.046</td></tr>\n",
              "</tbody>\n",
              "</table>\n"
            ],
            "text/markdown": [
              "\n",
              "| <!--/--> | Sepal.Length | Sepal.Width | Petal.Length | Petal.Width | \n",
              "|---|---|---|---|---|---|---|---|---|---|---|---|---|---|---|---|---|---|---|---|---|---|---|---|---|---|---|---|---|---|---|---|---|---|---|---|---|---|---|---|---|---|---|---|---|---|---|---|---|---|\n",
              "| 1 |  0.094 |  0.072 | -0.062 | -0.046 | \n",
              "| 2 | -0.106 | -0.428 | -0.062 | -0.046 | \n",
              "| 3 | -0.306 | -0.228 | -0.162 | -0.046 | \n",
              "| 4 | -0.406 | -0.328 |  0.038 | -0.046 | \n",
              "| 5 | -0.006 |  0.172 | -0.062 | -0.046 | \n",
              "| 6 |  0.394 |  0.472 |  0.238 |  0.154 | \n",
              "| 7 | -0.406 | -0.028 | -0.062 |  0.054 | \n",
              "| 8 | -0.006 | -0.028 |  0.038 | -0.046 | \n",
              "| 9 | -0.606 | -0.528 | -0.062 | -0.046 | \n",
              "| 10 | -0.106 | -0.328 |  0.038 | -0.146 | \n",
              "| 11 |  0.394 |  0.272 |  0.038 | -0.046 | \n",
              "| 12 | -0.206 | -0.028 |  0.138 | -0.046 | \n",
              "| 13 | -0.206 | -0.428 | -0.062 | -0.146 | \n",
              "| 14 | -0.706 | -0.428 | -0.362 | -0.146 | \n",
              "| 15 |  0.794 |  0.572 | -0.262 | -0.046 | \n",
              "| 16 |  0.694 |  0.972 |  0.038 |  0.154 | \n",
              "| 17 |  0.394 |  0.472 | -0.162 |  0.154 | \n",
              "| 18 |  0.094 |  0.072 | -0.062 |  0.054 | \n",
              "| 19 |  0.694 |  0.372 |  0.238 |  0.054 | \n",
              "| 20 |  0.094 |  0.372 |  0.038 |  0.054 | \n",
              "| 21 |  0.394 | -0.028 |  0.238 | -0.046 | \n",
              "| 22 |  0.094 |  0.272 |  0.038 |  0.154 | \n",
              "| 23 | -0.406 |  0.172 | -0.462 | -0.046 | \n",
              "| 24 |  0.094 | -0.128 |  0.238 |  0.254 | \n",
              "| 25 | -0.206 | -0.028 |  0.438 | -0.046 | \n",
              "| 26 | -0.006 | -0.428 |  0.138 | -0.046 | \n",
              "| 27 | -0.006 | -0.028 |  0.138 |  0.154 | \n",
              "| 28 |  0.194 |  0.072 |  0.038 | -0.046 | \n",
              "| 29 |  0.194 | -0.028 | -0.062 | -0.046 | \n",
              "| 30 | -0.306 | -0.228 |  0.138 | -0.046 | \n",
              "| 31 | -0.206 | -0.328 |  0.138 | -0.046 | \n",
              "| 32 |  0.394 | -0.028 |  0.038 |  0.154 | \n",
              "| 33 |  0.194 |  0.672 |  0.038 | -0.146 | \n",
              "| 34 |  0.494 |  0.772 | -0.062 | -0.046 | \n",
              "| 35 | -0.106 | -0.328 |  0.038 | -0.046 | \n",
              "| 36 | -0.006 | -0.228 | -0.262 | -0.046 | \n",
              "| 37 |  0.494 |  0.072 | -0.162 | -0.046 | \n",
              "| 38 | -0.106 |  0.172 | -0.062 | -0.146 | \n",
              "| 39 | -0.606 | -0.428 | -0.162 | -0.046 | \n",
              "| 40 |  0.094 | -0.028 |  0.038 | -0.046 | \n",
              "| 41 | -0.006 |  0.072 | -0.162 |  0.054 | \n",
              "| 42 | -0.506 | -1.128 | -0.162 |  0.054 | \n",
              "| 43 | -0.606 | -0.228 | -0.162 | -0.046 | \n",
              "| 44 | -0.006 |  0.072 |  0.138 |  0.354 | \n",
              "| 45 |  0.094 |  0.372 |  0.438 |  0.154 | \n",
              "| 46 | -0.206 | -0.428 | -0.062 |  0.054 | \n",
              "| 47 |  0.094 |  0.372 |  0.138 | -0.046 | \n",
              "| 48 | -0.406 | -0.228 | -0.062 | -0.046 | \n",
              "| 49 |  0.294 |  0.272 |  0.038 | -0.046 | \n",
              "| 50 | -0.006 | -0.128 | -0.062 | -0.046 | \n",
              "\n\n"
            ],
            "text/latex": [
              "\\begin{tabular}{r|llll}\n",
              "  & Sepal.Length & Sepal.Width & Petal.Length & Petal.Width\\\\\n",
              "\\hline\n",
              "\t1 &  0.094 &  0.072 & -0.062 & -0.046\\\\\n",
              "\t2 & -0.106 & -0.428 & -0.062 & -0.046\\\\\n",
              "\t3 & -0.306 & -0.228 & -0.162 & -0.046\\\\\n",
              "\t4 & -0.406 & -0.328 &  0.038 & -0.046\\\\\n",
              "\t5 & -0.006 &  0.172 & -0.062 & -0.046\\\\\n",
              "\t6 &  0.394 &  0.472 &  0.238 &  0.154\\\\\n",
              "\t7 & -0.406 & -0.028 & -0.062 &  0.054\\\\\n",
              "\t8 & -0.006 & -0.028 &  0.038 & -0.046\\\\\n",
              "\t9 & -0.606 & -0.528 & -0.062 & -0.046\\\\\n",
              "\t10 & -0.106 & -0.328 &  0.038 & -0.146\\\\\n",
              "\t11 &  0.394 &  0.272 &  0.038 & -0.046\\\\\n",
              "\t12 & -0.206 & -0.028 &  0.138 & -0.046\\\\\n",
              "\t13 & -0.206 & -0.428 & -0.062 & -0.146\\\\\n",
              "\t14 & -0.706 & -0.428 & -0.362 & -0.146\\\\\n",
              "\t15 &  0.794 &  0.572 & -0.262 & -0.046\\\\\n",
              "\t16 &  0.694 &  0.972 &  0.038 &  0.154\\\\\n",
              "\t17 &  0.394 &  0.472 & -0.162 &  0.154\\\\\n",
              "\t18 &  0.094 &  0.072 & -0.062 &  0.054\\\\\n",
              "\t19 &  0.694 &  0.372 &  0.238 &  0.054\\\\\n",
              "\t20 &  0.094 &  0.372 &  0.038 &  0.054\\\\\n",
              "\t21 &  0.394 & -0.028 &  0.238 & -0.046\\\\\n",
              "\t22 &  0.094 &  0.272 &  0.038 &  0.154\\\\\n",
              "\t23 & -0.406 &  0.172 & -0.462 & -0.046\\\\\n",
              "\t24 &  0.094 & -0.128 &  0.238 &  0.254\\\\\n",
              "\t25 & -0.206 & -0.028 &  0.438 & -0.046\\\\\n",
              "\t26 & -0.006 & -0.428 &  0.138 & -0.046\\\\\n",
              "\t27 & -0.006 & -0.028 &  0.138 &  0.154\\\\\n",
              "\t28 &  0.194 &  0.072 &  0.038 & -0.046\\\\\n",
              "\t29 &  0.194 & -0.028 & -0.062 & -0.046\\\\\n",
              "\t30 & -0.306 & -0.228 &  0.138 & -0.046\\\\\n",
              "\t31 & -0.206 & -0.328 &  0.138 & -0.046\\\\\n",
              "\t32 &  0.394 & -0.028 &  0.038 &  0.154\\\\\n",
              "\t33 &  0.194 &  0.672 &  0.038 & -0.146\\\\\n",
              "\t34 &  0.494 &  0.772 & -0.062 & -0.046\\\\\n",
              "\t35 & -0.106 & -0.328 &  0.038 & -0.046\\\\\n",
              "\t36 & -0.006 & -0.228 & -0.262 & -0.046\\\\\n",
              "\t37 &  0.494 &  0.072 & -0.162 & -0.046\\\\\n",
              "\t38 & -0.106 &  0.172 & -0.062 & -0.146\\\\\n",
              "\t39 & -0.606 & -0.428 & -0.162 & -0.046\\\\\n",
              "\t40 &  0.094 & -0.028 &  0.038 & -0.046\\\\\n",
              "\t41 & -0.006 &  0.072 & -0.162 &  0.054\\\\\n",
              "\t42 & -0.506 & -1.128 & -0.162 &  0.054\\\\\n",
              "\t43 & -0.606 & -0.228 & -0.162 & -0.046\\\\\n",
              "\t44 & -0.006 &  0.072 &  0.138 &  0.354\\\\\n",
              "\t45 &  0.094 &  0.372 &  0.438 &  0.154\\\\\n",
              "\t46 & -0.206 & -0.428 & -0.062 &  0.054\\\\\n",
              "\t47 &  0.094 &  0.372 &  0.138 & -0.046\\\\\n",
              "\t48 & -0.406 & -0.228 & -0.062 & -0.046\\\\\n",
              "\t49 &  0.294 &  0.272 &  0.038 & -0.046\\\\\n",
              "\t50 & -0.006 & -0.128 & -0.062 & -0.046\\\\\n",
              "\\end{tabular}\n"
            ],
            "text/plain": [
              "   Sepal.Length Sepal.Width Petal.Length Petal.Width\n",
              "1   0.094        0.072      -0.062       -0.046     \n",
              "2  -0.106       -0.428      -0.062       -0.046     \n",
              "3  -0.306       -0.228      -0.162       -0.046     \n",
              "4  -0.406       -0.328       0.038       -0.046     \n",
              "5  -0.006        0.172      -0.062       -0.046     \n",
              "6   0.394        0.472       0.238        0.154     \n",
              "7  -0.406       -0.028      -0.062        0.054     \n",
              "8  -0.006       -0.028       0.038       -0.046     \n",
              "9  -0.606       -0.528      -0.062       -0.046     \n",
              "10 -0.106       -0.328       0.038       -0.146     \n",
              "11  0.394        0.272       0.038       -0.046     \n",
              "12 -0.206       -0.028       0.138       -0.046     \n",
              "13 -0.206       -0.428      -0.062       -0.146     \n",
              "14 -0.706       -0.428      -0.362       -0.146     \n",
              "15  0.794        0.572      -0.262       -0.046     \n",
              "16  0.694        0.972       0.038        0.154     \n",
              "17  0.394        0.472      -0.162        0.154     \n",
              "18  0.094        0.072      -0.062        0.054     \n",
              "19  0.694        0.372       0.238        0.054     \n",
              "20  0.094        0.372       0.038        0.054     \n",
              "21  0.394       -0.028       0.238       -0.046     \n",
              "22  0.094        0.272       0.038        0.154     \n",
              "23 -0.406        0.172      -0.462       -0.046     \n",
              "24  0.094       -0.128       0.238        0.254     \n",
              "25 -0.206       -0.028       0.438       -0.046     \n",
              "26 -0.006       -0.428       0.138       -0.046     \n",
              "27 -0.006       -0.028       0.138        0.154     \n",
              "28  0.194        0.072       0.038       -0.046     \n",
              "29  0.194       -0.028      -0.062       -0.046     \n",
              "30 -0.306       -0.228       0.138       -0.046     \n",
              "31 -0.206       -0.328       0.138       -0.046     \n",
              "32  0.394       -0.028       0.038        0.154     \n",
              "33  0.194        0.672       0.038       -0.146     \n",
              "34  0.494        0.772      -0.062       -0.046     \n",
              "35 -0.106       -0.328       0.038       -0.046     \n",
              "36 -0.006       -0.228      -0.262       -0.046     \n",
              "37  0.494        0.072      -0.162       -0.046     \n",
              "38 -0.106        0.172      -0.062       -0.146     \n",
              "39 -0.606       -0.428      -0.162       -0.046     \n",
              "40  0.094       -0.028       0.038       -0.046     \n",
              "41 -0.006        0.072      -0.162        0.054     \n",
              "42 -0.506       -1.128      -0.162        0.054     \n",
              "43 -0.606       -0.228      -0.162       -0.046     \n",
              "44 -0.006        0.072       0.138        0.354     \n",
              "45  0.094        0.372       0.438        0.154     \n",
              "46 -0.206       -0.428      -0.062        0.054     \n",
              "47  0.094        0.372       0.138       -0.046     \n",
              "48 -0.406       -0.228      -0.062       -0.046     \n",
              "49  0.294        0.272       0.038       -0.046     \n",
              "50 -0.006       -0.128      -0.062       -0.046     "
            ]
          },
          "metadata": {}
        }
      ],
      "execution_count": 7,
      "metadata": {
        "collapsed": false,
        "outputHidden": false,
        "inputHidden": false
      }
    },
    {
      "cell_type": "code",
      "source": [
        "W.1 <- t(t(t(select(iris, -Species)[1:50,]) - group.means[1,])) %*% t(t(select(iris, -Species)[1:50,]) - group.means[1,])\n",
        "W.2 <- t(t(t(select(iris, -Species)[51:100,]) - group.means[2,])) %*% t(t(select(iris, -Species)[51:100,]) - group.means[2,])\n",
        "W.3 <- t(t(t(select(iris, -Species)[101:150,]) - group.means[3,])) %*% t(t(select(iris, -Species)[101:150,]) - group.means[3,])\n",
        "(W <- W.1 + W.2 + W.3)"
      ],
      "outputs": [
        {
          "output_type": "display_data",
          "data": {
            "text/html": [
              "<table>\n",
              "<thead><tr><th></th><th scope=col>Sepal.Length</th><th scope=col>Sepal.Width</th><th scope=col>Petal.Length</th><th scope=col>Petal.Width</th></tr></thead>\n",
              "<tbody>\n",
              "\t<tr><th scope=row>Sepal.Length</th><td>38.9562</td><td>13.6300</td><td>24.6246</td><td>5.6450 </td></tr>\n",
              "\t<tr><th scope=row>Sepal.Width</th><td>13.6300</td><td>16.9620</td><td> 8.1208</td><td>4.8084 </td></tr>\n",
              "\t<tr><th scope=row>Petal.Length</th><td>24.6246</td><td> 8.1208</td><td>27.2226</td><td>6.2718 </td></tr>\n",
              "\t<tr><th scope=row>Petal.Width</th><td> 5.6450</td><td> 4.8084</td><td> 6.2718</td><td>6.1566 </td></tr>\n",
              "</tbody>\n",
              "</table>\n"
            ],
            "text/markdown": [
              "\n",
              "| <!--/--> | Sepal.Length | Sepal.Width | Petal.Length | Petal.Width | \n",
              "|---|---|---|---|\n",
              "| Sepal.Length | 38.9562 | 13.6300 | 24.6246 | 5.6450  | \n",
              "| Sepal.Width | 13.6300 | 16.9620 |  8.1208 | 4.8084  | \n",
              "| Petal.Length | 24.6246 |  8.1208 | 27.2226 | 6.2718  | \n",
              "| Petal.Width |  5.6450 |  4.8084 |  6.2718 | 6.1566  | \n",
              "\n\n"
            ],
            "text/latex": [
              "\\begin{tabular}{r|llll}\n",
              "  & Sepal.Length & Sepal.Width & Petal.Length & Petal.Width\\\\\n",
              "\\hline\n",
              "\tSepal.Length & 38.9562 & 13.6300 & 24.6246 & 5.6450 \\\\\n",
              "\tSepal.Width & 13.6300 & 16.9620 &  8.1208 & 4.8084 \\\\\n",
              "\tPetal.Length & 24.6246 &  8.1208 & 27.2226 & 6.2718 \\\\\n",
              "\tPetal.Width &  5.6450 &  4.8084 &  6.2718 & 6.1566 \\\\\n",
              "\\end{tabular}\n"
            ],
            "text/plain": [
              "             Sepal.Length Sepal.Width Petal.Length Petal.Width\n",
              "Sepal.Length 38.9562      13.6300     24.6246      5.6450     \n",
              "Sepal.Width  13.6300      16.9620      8.1208      4.8084     \n",
              "Petal.Length 24.6246       8.1208     27.2226      6.2718     \n",
              "Petal.Width   5.6450       4.8084      6.2718      6.1566     "
            ]
          },
          "metadata": {}
        }
      ],
      "execution_count": 8,
      "metadata": {
        "collapsed": false,
        "outputHidden": false,
        "inputHidden": false
      }
    },
    {
      "cell_type": "code",
      "source": [
        "(B <- t(sweep(group.means, 2, t(total.mean), '-')) %*% diag(n.groups) %*% (sweep(group.means, 2, t(total.mean), '-')))"
      ],
      "outputs": [
        {
          "output_type": "display_data",
          "data": {
            "text/html": [
              "<table>\n",
              "<thead><tr><th></th><th scope=col>Sepal.Length.mean</th><th scope=col>Sepal.Width.mean</th><th scope=col>Petal.Length.mean</th><th scope=col>Petal.Width.mean</th></tr></thead>\n",
              "<tbody>\n",
              "\t<tr><th scope=row>Sepal.Length.mean</th><td> 63.21213</td><td>-19.95267</td><td>165.2484 </td><td> 71.27933</td></tr>\n",
              "\t<tr><th scope=row>Sepal.Width.mean</th><td>-19.95267</td><td> 11.34493</td><td>-57.2396 </td><td>-22.93267</td></tr>\n",
              "\t<tr><th scope=row>Petal.Length.mean</th><td>165.24840</td><td>-57.23960</td><td>437.1028 </td><td>186.77400</td></tr>\n",
              "\t<tr><th scope=row>Petal.Width.mean</th><td> 71.27933</td><td>-22.93267</td><td>186.7740 </td><td> 80.41333</td></tr>\n",
              "</tbody>\n",
              "</table>\n"
            ],
            "text/markdown": [
              "\n",
              "| <!--/--> | Sepal.Length.mean | Sepal.Width.mean | Petal.Length.mean | Petal.Width.mean | \n",
              "|---|---|---|---|\n",
              "| Sepal.Length.mean |  63.21213 | -19.95267 | 165.2484  |  71.27933 | \n",
              "| Sepal.Width.mean | -19.95267 |  11.34493 | -57.2396  | -22.93267 | \n",
              "| Petal.Length.mean | 165.24840 | -57.23960 | 437.1028  | 186.77400 | \n",
              "| Petal.Width.mean |  71.27933 | -22.93267 | 186.7740  |  80.41333 | \n",
              "\n\n"
            ],
            "text/latex": [
              "\\begin{tabular}{r|llll}\n",
              "  & Sepal.Length.mean & Sepal.Width.mean & Petal.Length.mean & Petal.Width.mean\\\\\n",
              "\\hline\n",
              "\tSepal.Length.mean &  63.21213 & -19.95267 & 165.2484  &  71.27933\\\\\n",
              "\tSepal.Width.mean & -19.95267 &  11.34493 & -57.2396  & -22.93267\\\\\n",
              "\tPetal.Length.mean & 165.24840 & -57.23960 & 437.1028  & 186.77400\\\\\n",
              "\tPetal.Width.mean &  71.27933 & -22.93267 & 186.7740  &  80.41333\\\\\n",
              "\\end{tabular}\n"
            ],
            "text/plain": [
              "                  Sepal.Length.mean Sepal.Width.mean Petal.Length.mean\n",
              "Sepal.Length.mean  63.21213         -19.95267        165.2484         \n",
              "Sepal.Width.mean  -19.95267          11.34493        -57.2396         \n",
              "Petal.Length.mean 165.24840         -57.23960        437.1028         \n",
              "Petal.Width.mean   71.27933         -22.93267        186.7740         \n",
              "                  Petal.Width.mean\n",
              "Sepal.Length.mean  71.27933       \n",
              "Sepal.Width.mean  -22.93267       \n",
              "Petal.Length.mean 186.77400       \n",
              "Petal.Width.mean   80.41333       "
            ]
          },
          "metadata": {}
        }
      ],
      "execution_count": 9,
      "metadata": {
        "collapsed": false,
        "outputHidden": false,
        "inputHidden": false
      }
    },
    {
      "cell_type": "code",
      "source": [
        "eigen(solve(W) %*% B)"
      ],
      "outputs": [
        {
          "output_type": "display_data",
          "data": {
            "text/plain": [
              "eigen() decomposition\n",
              "$values\n",
              "[1]  3.219193e+01  2.853910e-01 -3.453721e-15  3.215238e-16\n",
              "\n",
              "$vectors\n",
              "           [,1]         [,2]       [,3]       [,4]\n",
              "[1,] -0.2087418 -0.006531964 -0.2709661  0.2694746\n",
              "[2,] -0.3862037 -0.586610553 -0.2313093 -0.4092738\n",
              "[3,]  0.5540117  0.252561540 -0.3052122 -0.4693514\n",
              "[4,]  0.7073504 -0.769453092  0.8831302  0.7345663\n"
            ]
          },
          "metadata": {}
        }
      ],
      "execution_count": 10,
      "metadata": {
        "collapsed": false,
        "outputHidden": false,
        "inputHidden": false
      }
    }
  ],
  "metadata": {
    "kernelspec": {
      "name": "ir",
      "language": "R",
      "display_name": "R"
    },
    "kernel_info": {
      "name": "ir"
    },
    "language_info": {
      "name": "R",
      "codemirror_mode": "r",
      "pygments_lexer": "r",
      "mimetype": "text/x-r-source",
      "file_extension": ".r",
      "version": "3.4.3"
    },
    "nteract": {
      "version": "0.5.5"
    }
  },
  "nbformat": 4,
  "nbformat_minor": 4
}